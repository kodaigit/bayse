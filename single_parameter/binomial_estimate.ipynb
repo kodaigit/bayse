{
 "cells": [
  {
   "cell_type": "markdown",
   "metadata": {},
   "source": [
    "### Single paramter estimate of a binomial distribution using Bayse\n",
    "\n",
    "This is an example used in BDA3. I just implement the math using python so I can play with it. \n",
    "\n",
    "We would like to estimate the parameter theta, a probability of female birth, given observed data. Suppose we can observe number of births, n, and the number of female births in the total number of births. Given these data, we would like to estimate true probability of the female birth rate. \n",
    "\n",
    "The normalized posterior density is described as below\n",
    "\n",
    "$$\n",
    "p(\\theta \\mid y) = \\frac{p(\\theta, y)}{p(y)} = \\frac{p(\\theta) \\cdot p(y \\mid \\theta)}{p(y)}\n",
    "$$\n",
    "\n",
    "Unnormalized form basically omits the total probability of y and changes the equal sign to proportional sign. \n",
    "\n",
    "In this notebook, we will use unnormalized form as I am not interested in the density associated with an estimated parameter that much. So, what we have to determine include the following distributsion \n",
    "\n",
    "$$ p(y \\mid \\theta) $$ \n",
    "\n",
    "$$ p(\\theta) $$\n",
    "\n",
    "If we consider a female of birth an successful event, we can think of the distribution of female births as a binomial distribution as there are only two outcomes, male or female. \n",
    "\n",
    "As a prior of $ \\theta $, we can assume an uniform distribution with an interval from 0 and 1. NOTE THAT this might be too naive assumption. \n",
    "\n",
    "Thus, \n",
    "$$\n",
    "p(y \\mid \\theta) = \\text{Bin}(y \\mid n, \\theta) =  \\binom n y \\theta^y (1 - \\theta)^{n-y}\n",
    "$$\n",
    "\n",
    "Here $\\binom n y$ is a constant, so we can ignore this in our calculation as omiting this does not break the proportional relationship. \n",
    "\n",
    "Then, $ p(\\theta) $ becomes actually 1 because the pdf of the uniform distribution is $ \\frac{1}{b - a} $ where b>a. \n",
    "\n",
    "Thus, the final expression we would like to evaluate will be the following\n",
    "\n",
    "$$\n",
    "p(\\theta \\mid y) \\propto \\theta^y (1 - \\theta)^{n-y}\n",
    "$$\n",
    "\n",
    "Let's see how bayse can estimate the parameter distribution well using the expression\n"
   ]
  },
  {
   "cell_type": "markdown",
   "metadata": {},
   "source": [
    "As you can see, based on n=100, and y = 60, associated probability is gonna be the highest around theta = 0.6"
   ]
  },
  {
   "cell_type": "code",
   "execution_count": 16,
   "metadata": {},
   "outputs": [
    {
     "data": {
      "text/plain": [
       "[<matplotlib.lines.Line2D at 0x1a2aa8af520>]"
      ]
     },
     "execution_count": 16,
     "metadata": {},
     "output_type": "execute_result"
    },
    {
     "data": {
      "image/png": "[encoded data removed]",
      "text/plain": [
       "<Figure size 640x480 with 1 Axes>"
      ]
     },
     "metadata": {},
     "output_type": "display_data"
    }
   ],
   "source": [
    "import numpy as np \n",
    "import matplotlib.pyplot as plt\n",
    "\n",
    "n = 100\n",
    "y = 60\n",
    "\n",
    "params = []\n",
    "outputs = []\n",
    "\n",
    "\n",
    "for theta in np.linspace(0,1,100):\n",
    "    result= (theta**y)*(1-theta)**(n-y)\n",
    "    params.append(theta)\n",
    "    outputs.append(result)\n",
    "\n",
    "\n",
    "plt.plot(params,outputs)"
   ]
  },
  {
   "cell_type": "code",
   "execution_count": null,
   "metadata": {},
   "outputs": [],
   "source": []
  },
  {
   "cell_type": "code",
   "execution_count": null,
   "metadata": {},
   "outputs": [],
   "source": []
  }
 ],
 "metadata": {
  "kernelspec": {
   "display_name": "bayse",
   "language": "python",
   "name": "python3"
  },
  "language_info": {
   "codemirror_mode": {
    "name": "ipython",
    "version": 3
   },
   "file_extension": ".py",
   "mimetype": "text/x-python",
   "name": "python",
   "nbconvert_exporter": "python",
   "pygments_lexer": "ipython3",
   "version": "3.10.11"
  }
 },
 "nbformat": 4,
 "nbformat_minor": 2
}
